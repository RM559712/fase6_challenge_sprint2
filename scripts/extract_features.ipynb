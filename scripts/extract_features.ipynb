{
 "cells": [
  {
   "cell_type": "code",
   "execution_count": null,
   "id": "4909bf18",
   "metadata": {},
   "outputs": [],
   "source": [
    "# 🔄 Cópia do DataFrame original para não alterar os dados originais\n",
    "df_segmentado = df.copy()\n",
    "\n",
    "# 🧱 Segmentação do NDVI em três faixas com base em limiares:\n",
    "# - NDVI de 0.00 a 0.45  → Baixo vigor (estresse, corte ou vegetação degradada)\n",
    "# - NDVI de 0.45 a 0.60  → Vigor moderado (fase de recuperação, rebrota ou seca parcial)\n",
    "# - NDVI de 0.60 a 1.00  → Alto vigor (fase de crescimento ativo e saudável)\n",
    "df_segmentado['Classe NDVI'] = pd.cut(\n",
    "    df_segmentado['NDVI'],                     # coluna a ser segmentada\n",
    "    bins=[0, 0.45, 0.6, 1.0],                   # limites dos intervalos\n",
    "    labels=['Baixo vigor', 'Vigor moderado', 'Alto vigor']  # rótulos atribuídos\n",
    ")\n",
    "\n",
    "# 📊 Visualização da quantidade de registros por faixa de vigor\n",
    "# Isso nos ajuda a entender como o NDVI está distribuído entre as classes simuladas\n",
    "import seaborn as sns\n",
    "import matplotlib.pyplot as plt\n",
    "\n",
    "plt.figure(figsize=(8, 4))\n",
    "sns.countplot(data=df_segmentado, x='Classe NDVI', palette='Set2')\n",
    "\n",
    "# 🖼️ Título e rótulos do gráfico\n",
    "plt.title('Distribuição de Áreas por Faixa de NDVI')\n",
    "plt.ylabel('Número de Ocorrências')\n",
    "plt.xlabel('Classe de Vigor Vegetativo')\n",
    "\n",
    "# 🔽 Ajuste para melhor visualização e salvamento do gráfico\n",
    "plt.tight_layout()\n",
    "plt.savefig('../tests/images/segmentacao_ndvi_classes.png')\n",
    "plt.show()\n"
   ]
  }
 ],
 "metadata": {
  "language_info": {
   "name": "python"
  }
 },
 "nbformat": 4,
 "nbformat_minor": 5
}
