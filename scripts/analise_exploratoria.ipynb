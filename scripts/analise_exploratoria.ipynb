{
 "cells": [
  {
   "cell_type": "markdown",
   "id": "edab6765",
   "metadata": {},
   "source": [
    "# Análise Exploratória – Sprint 2\n",
    "Este notebook apresenta a análise dos dados coletados na Sprint 1, com foco em entender padrões sazonais e correlações entre \n",
    "NDVI, clima e produtividade da cana-de-açúcar em Uberaba/MG.\n"
   ]
  },
  {
   "cell_type": "code",
   "execution_count": null,
   "id": "751e45a9",
   "metadata": {
    "vscode": {
     "languageId": "plaintext"
    }
   },
   "outputs": [],
   "source": [
    "# Carregamento dos dados\n",
    "import pandas as pd\n",
    "df = pd.read_csv('../data/dataset_unificado.csv')\n",
    "df.head()\n"
   ]
  },
  {
   "cell_type": "code",
   "execution_count": null,
   "id": "b23d0d54",
   "metadata": {
    "vscode": {
     "languageId": "plaintext"
    }
   },
   "outputs": [],
   "source": [
    "# Limpeza e tratamento básico\n",
    "df.info()\n",
    "df.isnull().sum()\n"
   ]
  },
  {
   "cell_type": "code",
   "execution_count": null,
   "id": "67e21edd",
   "metadata": {
    "vscode": {
     "languageId": "plaintext"
    }
   },
   "outputs": [],
   "source": [
    "# Vizualizacoes Temporais\n",
    "import matplotlib.pyplot as plt\n",
    "\n",
    "plt.figure(figsize=(14, 6))\n",
    "plt.plot(df['Ano-Mes'], df['NDVI'], label='NDVI', color='green')\n",
    "plt.plot(df['Ano-Mes'], df['Produtividade (ton/ha)'], label='Produtividade', color='blue')\n",
    "plt.xticks(rotation=45)\n",
    "plt.title('NDVI vs Produtividade ao longo do tempo')\n",
    "plt.xlabel('Ano-Mês')\n",
    "plt.ylabel('Índice / Toneladas por Hectare')\n",
    "plt.legend()\n",
    "plt.grid()\n",
    "plt.tight_layout()\n",
    "plt.savefig('../tests/images/ndvi_vs_produtividade.png')\n",
    "plt.show()\n"
   ]
  }
 ],
 "metadata": {
  "language_info": {
   "name": "python"
  }
 },
 "nbformat": 4,
 "nbformat_minor": 5
}
